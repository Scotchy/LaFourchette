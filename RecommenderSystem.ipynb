{
 "cells": [
  {
   "cell_type": "markdown",
   "metadata": {},
   "source": [
    "# Recommender system for La Fourchette"
   ]
  },
  {
   "cell_type": "markdown",
   "metadata": {},
   "source": [
    "We try in this notebook to implement a recommender system for the mobile app La Fourchette. La Fourchette allows its users to find restaurant near their position and to reserve easily a table. The users are able to evaluate their experience. A user can give several grades. For example \"cooking\", \"surroudings\", \"service\". \n",
    "It is also possible to consider some metadata such as the hour, and the distance. \n",
    "\n",
    "The first thing we need is data. We will generate random users and items. There are several ways to do this:\n",
    "- We can chose users, items and metadata uniformly\n",
    "- Or we can define several clusters and chose random users/items/metadata in these clusters"
   ]
  },
  {
   "cell_type": "code",
   "execution_count": 470,
   "metadata": {
    "ExecuteTime": {
     "end_time": "2020-02-29T18:33:01.150791Z",
     "start_time": "2020-02-29T18:33:01.129863Z"
    }
   },
   "outputs": [
    {
     "name": "stdout",
     "output_type": "stream",
     "text": [
      "The autoreload extension is already loaded. To reload it, use:\n",
      "  %reload_ext autoreload\n"
     ]
    }
   ],
   "source": [
    "%load_ext autoreload\n",
    "%autoreload 2\n",
    "\n",
    "import numpy as np\n",
    "import pandas as pd\n",
    "import json\n",
    "import matplotlib.pyplot as mplt\n",
    "\n",
    "from user import *\n",
    "from restaurant import *"
   ]
  },
  {
   "cell_type": "code",
   "execution_count": 3,
   "metadata": {
    "ExecuteTime": {
     "end_time": "2020-02-27T22:06:07.163763Z",
     "start_time": "2020-02-27T22:06:07.149599Z"
    }
   },
   "outputs": [],
   "source": [
    "n_users = 1000\n",
    "n_items = 500"
   ]
  },
  {
   "cell_type": "code",
   "execution_count": 4,
   "metadata": {
    "ExecuteTime": {
     "end_time": "2020-02-27T22:06:07.346370Z",
     "start_time": "2020-02-27T22:06:07.335005Z"
    }
   },
   "outputs": [],
   "source": [
    "metadata = [\"weather\", \"hour\", \"distance\", \"last_time_visited\", \"last_visited\"]\n",
    "items=[]\n",
    "ratings = np.zeros((n_users, n_items, 3))"
   ]
  },
  {
   "cell_type": "code",
   "execution_count": 72,
   "metadata": {
    "ExecuteTime": {
     "end_time": "2020-02-27T22:23:24.215707Z",
     "start_time": "2020-02-27T22:23:21.026366Z"
    },
    "scrolled": true
   },
   "outputs": [],
   "source": [
    "restaurants = Restaurant.load_from_csv(\"./data/restaurants.csv\", set_random_params=True)"
   ]
  },
  {
   "cell_type": "code",
   "execution_count": 384,
   "metadata": {
    "ExecuteTime": {
     "end_time": "2020-02-29T17:19:44.607812Z",
     "start_time": "2020-02-29T17:19:44.533099Z"
    }
   },
   "outputs": [],
   "source": [
    "import pandas \n",
    "df = pandas.read_csv(\"./data/restaurants.csv\")"
   ]
  },
  {
   "cell_type": "code",
   "execution_count": 707,
   "metadata": {
    "ExecuteTime": {
     "end_time": "2020-02-29T21:20:30.046831Z",
     "start_time": "2020-02-29T21:20:30.030994Z"
    }
   },
   "outputs": [],
   "source": [
    "a = list(df[\"speciality\"])"
   ]
  },
  {
   "cell_type": "code",
   "execution_count": 720,
   "metadata": {
    "ExecuteTime": {
     "end_time": "2020-02-29T21:23:21.651413Z",
     "start_time": "2020-02-29T21:23:21.636421Z"
    }
   },
   "outputs": [
    {
     "data": {
      "text/plain": [
       "'e'"
      ]
     },
     "execution_count": 720,
     "metadata": {},
     "output_type": "execute_result"
    }
   ],
   "source": [
    "\"E\".lower()"
   ]
  },
  {
   "cell_type": "code",
   "execution_count": 724,
   "metadata": {
    "ExecuteTime": {
     "end_time": "2020-02-29T21:24:33.649785Z",
     "start_time": "2020-02-29T21:24:33.613750Z"
    }
   },
   "outputs": [],
   "source": [
    "a = np.concatenate([sp.split(\";,\") for sp in a])"
   ]
  },
  {
   "cell_type": "code",
   "execution_count": 725,
   "metadata": {
    "ExecuteTime": {
     "end_time": "2020-02-29T21:24:34.014191Z",
     "start_time": "2020-02-29T21:24:33.992699Z"
    }
   },
   "outputs": [],
   "source": [
    "a = [sp.lower().replace(\" \", \"\").replace(\"_\", \"\") for sp in a]"
   ]
  },
  {
   "cell_type": "code",
   "execution_count": 727,
   "metadata": {
    "ExecuteTime": {
     "end_time": "2020-02-29T21:25:40.037093Z",
     "start_time": "2020-02-29T21:25:40.018461Z"
    }
   },
   "outputs": [],
   "source": [
    "b = np.unique(a)"
   ]
  },
  {
   "cell_type": "code",
   "execution_count": 728,
   "metadata": {
    "ExecuteTime": {
     "end_time": "2020-02-29T21:25:43.657551Z",
     "start_time": "2020-02-29T21:25:43.639657Z"
    }
   },
   "outputs": [
    {
     "data": {
      "text/plain": [
       "292"
      ]
     },
     "execution_count": 728,
     "metadata": {},
     "output_type": "execute_result"
    }
   ],
   "source": [
    "len(b)"
   ]
  },
  {
   "cell_type": "code",
   "execution_count": 740,
   "metadata": {
    "ExecuteTime": {
     "end_time": "2020-02-29T21:33:46.258540Z",
     "start_time": "2020-02-29T21:33:46.126542Z"
    }
   },
   "outputs": [
    {
     "data": {
      "text/plain": [
       "(array([88., 26., 17.,  8.,  9., 13., 14., 16., 19., 82.]),\n",
       " array([2.49160505e-08, 1.00000022e-01, 2.00000019e-01, 3.00000016e-01,\n",
       "        4.00000013e-01, 5.00000010e-01, 6.00000007e-01, 7.00000004e-01,\n",
       "        8.00000001e-01, 8.99999998e-01, 9.99999995e-01]),\n",
       " <a list of 10 Patch objects>)"
      ]
     },
     "execution_count": 740,
     "metadata": {},
     "output_type": "execute_result"
    },
    {
     "data": {
      "image/png": "[encoded data removed]",
      "text/plain": [
       "<Figure size 432x288 with 1 Axes>"
      ]
     },
     "metadata": {
      "needs_background": "light"
     },
     "output_type": "display_data"
    }
   ],
   "source": [
    "mplt.hist(np.random.beta(0.3,0.3, 292), bins=10)"
   ]
  },
  {
   "cell_type": "code",
   "execution_count": 385,
   "metadata": {
    "ExecuteTime": {
     "end_time": "2020-02-29T17:19:56.467484Z",
     "start_time": "2020-02-29T17:19:56.445154Z"
    }
   },
   "outputs": [
    {
     "data": {
      "text/plain": [
       "array(['African', 'Américaine;sandwiches', 'Auvergne', 'Bar à vins',\n",
       "       'Bistrot_gastronome', 'Brasserie', 'Brasserie,_Pub', 'Cap Vert',\n",
       "       'Cap_Vert', 'Chinese; Sichuan', 'Chinese;Shanxi',\n",
       "       'Chinese;Sichuan', 'Chinese;Sichuan;vietnamese', 'Chinese;火鍋',\n",
       "       'Congo', 'Franco_Portugaise', 'Français', 'Gastr',\n",
       "       'Gastronomie_française', 'Gastronomique',\n",
       "       'Indian, Asian, Curry, tandoori', 'Italian', 'Kazakh;Russe',\n",
       "       'Korean', 'Lao', 'Maison_bio_producteurs_bols', 'Marocain',\n",
       "       'Mésopotamie_et_Anatolie', 'New-french', 'Océan indien',\n",
       "       'Pakistanais Indien', 'Repas_les_midis,_Pizzas_à_emporter',\n",
       "       'Sichuan', 'South_american_barbecue_and_natural_wine',\n",
       "       'Spécialités_réunionaises', 'Sud-Ouest France',\n",
       "       \"Sénégal ; Côte d'Ivoire\", 'Tibet', 'Vietnam', 'World', '_french',\n",
       "       'afghan', 'africaine', 'african', 'african;africaine',\n",
       "       'african;fast_food', 'algerian', 'algerian;french',\n",
       "       'algerian;grill', 'alsatian;flammkuchen', 'american',\n",
       "       'american;burger', 'american;diner', 'american;fast_food;burger',\n",
       "       'american;grill', 'american;mexican', 'arab', 'arab;lebanese',\n",
       "       'argentine', 'argentinian', 'armenian', 'asian', 'asian;africaine',\n",
       "       'asian;bento;korean', 'asian;bubble_tea;korean', 'asian;chinese',\n",
       "       'asian;chinese;japanese', 'asian;fusion', 'asian;japanese',\n",
       "       'asian;japanese;sushi', 'asian;korean;japanese', 'asian;sushi',\n",
       "       'asian;thai', 'asian;tibetan', 'asian;vietnamese', 'asian_fusion',\n",
       "       'bagel', 'bagel;pizza', 'bagels;vietnamese', 'balinese',\n",
       "       'balkan;greek;mediterranean;coffee_shop', 'bar', 'barbecue',\n",
       "       'barbecue;pizza', 'basque', 'bavarian', 'belgian', 'bento',\n",
       "       'bio;brunch', 'bistro', 'bistro;french', 'brasserie',\n",
       "       'brasserie;pizza', 'brasserie;wine', 'brazilian',\n",
       "       'brazilian;african', 'brazilian;fried_food',\n",
       "       'brazilian;portuguese', 'bread;coffee;pizza;salade;breakfast',\n",
       "       'breakfast', 'breakfast;coffee_shop;french',\n",
       "       'breakfast;french;coffee_shop', 'bresilian;japanese', 'breton',\n",
       "       'brunch', 'bulgarian', 'burger', 'burger; chicken',\n",
       "       'burger;american', 'burger;american;fish_and_chips;brunch',\n",
       "       'burger;bagel', 'burger;bowl', 'burger;coffee_shop;french',\n",
       "       'burger;french', 'burger;japanese', 'burger;juice;bowl',\n",
       "       'burger;pasta;breakfast;italian;pizza;coffee_shop',\n",
       "       'burger;pizza;grill', 'burger;pizza;ice_cream',\n",
       "       'burger;steak_house',\n",
       "       'burger;steak_house;grill;french;coffee_shop', 'burger;tartare',\n",
       "       'cajun', 'cake', 'cambodgienne;africaine;maghreb', 'cambodian',\n",
       "       'canadian', 'canteen', 'caribbean', 'caribbean;african', 'cheese',\n",
       "       'chicken', 'chilian', 'chinese', 'chinese - Fondue pékinoise',\n",
       "       'chinese; Hangzhou', 'chinese; japanese', 'chinese;Lanzhou',\n",
       "       'chinese;Sichuan', 'chinese;asian', 'chinese;cantonese',\n",
       "       'chinese;fondue', 'chinese;huoguo', 'chinese;japanese',\n",
       "       'chinese;japanese;sushi', 'chinese;noodle', 'chinese;regional',\n",
       "       'chinese;regional;Sichuan', 'chinese;taiwanese', 'chinese;thai',\n",
       "       'chinese;thai;japanese;sushi;maki;california',\n",
       "       'chinese;tibetan;mongol', 'chinese;vietnamese',\n",
       "       'chineses (Teochew) -  中国潮州', 'coffee_shop', 'coffee_shop;french',\n",
       "       'coffee_shop;french;burger;international',\n",
       "       'coffee_shop;international', 'coffee_shop;local',\n",
       "       'coffee_shop;salon_de_thé;cake;breakfast;international',\n",
       "       'colombian', 'columbian', 'corean', 'corsica', 'corsican',\n",
       "       'couscous', 'couscous;lebanese', 'couscous;tajines', 'creole',\n",
       "       'creole,italian', 'crepe', 'crepe;french', 'crepe;pancake',\n",
       "       'crepes', 'crepes;galettes', 'crepes;regional', 'crepes;salad',\n",
       "       'créole', 'crêperie', 'cuisine_nissarde', 'cupcakes;smoothie',\n",
       "       'curry', 'danish', 'deli', 'delicatessen', 'diet:vegetarian=only',\n",
       "       'ethiopian', 'falafel', 'fast_food', 'fast_food;sandwich',\n",
       "       'fine_dining', 'fine_dining;french', 'fine_dining;french;seafood',\n",
       "       'fine_dining;japanese;french', 'fine_dining;regional', 'fish',\n",
       "       'fish;salad', 'fish_and_chips', 'fondue', 'française',\n",
       "       'française_gastronomique', 'french', 'french gastronomy',\n",
       "       'french; couscous', 'french;barbecue', 'french;basque',\n",
       "       'french;bistro', 'french;brasserie;bistrot',\n",
       "       'french;brasserie;burger;traditional;Fait-Maison;homemade;regional;cafe;bistro',\n",
       "       'french;brunch', 'french;burger', 'french;burger;traditional',\n",
       "       'french;couscous', 'french;crepe', 'french;crepe;diner',\n",
       "       'french;drinks', 'french;fine_dining', 'french;fish;seafood',\n",
       "       'french;international', 'french;italian', 'french;japanese',\n",
       "       'french;meat', 'french;mediterranean', 'french;mexican',\n",
       "       'french;pizza', 'french;portuguese', 'french;regional',\n",
       "       'french;regional;coffee_shop', 'french;regional;seafood',\n",
       "       'french;sandwich;salads', 'french;seafood', 'french;spanish',\n",
       "       'french;steak_house', 'french;tapas', 'french;traditional',\n",
       "       'french;wine;drinks', 'french_traditional', 'fries', 'friture',\n",
       "       'fusion', 'fusion;french', 'fusion;french;japanese', 'gascogne',\n",
       "       'gastronomic', 'georgian', 'german', 'greek', 'greek;turkish',\n",
       "       'grill', 'hairdresser', 'hawaii', 'hawaiian', 'hawaiian;asian',\n",
       "       'health_food', 'hot_dog', 'hotdog;burger', 'hummus_bar;Pitas',\n",
       "       'hungarian', 'ice_cream', 'indian', 'indian;crepe',\n",
       "       'indian;mexican', 'indian;pakistanese', 'indian;pakistani',\n",
       "       'indian;thai', 'indian_pakistanese', 'indonesian', 'international',\n",
       "       'international;Afghan', 'international;african',\n",
       "       'international;french;south_american', 'international;salads',\n",
       "       'iranian', 'irish', 'israeli', 'italian',\n",
       "       'italian,_roumain,_traditionnel', 'italian; pizza', 'italian;arab',\n",
       "       'italian;coffee_shop', 'italian;french', 'italian;french;bavarian',\n",
       "       'italian;french;wine', 'italian;indian', 'italian;italian_pizza',\n",
       "       'italian;italian_pizza;pizza', 'italian;mediterranean',\n",
       "       'italian;pasta;pizza', 'italian;pizza', 'italian;pizza;pasta',\n",
       "       'italian;portuguese', 'italian;trattoria', 'italian_pizza',\n",
       "       'italian_pizza;italian', 'italian_pizza;italian;pizza',\n",
       "       'italian_pizza;pasta', 'italian_pizza;pizza',\n",
       "       'italian_pizza;pizza;coffee_shop;french',\n",
       "       'italian_pizza;pizza;italian', 'ivorian', 'ivory_coast',\n",
       "       'japanese', 'japanese;asian', 'japanese;asian;sushi',\n",
       "       'japanese;bento', 'japanese;chinese', 'japanese;french',\n",
       "       'japanese;korean', 'japanese;peruvian', 'japanese;ramen',\n",
       "       'japanese;sushi', 'japanese_and_chinese', 'japonais', 'japonaise',\n",
       "       'jewish', 'juice', 'kebab', 'kebab;burger',\n",
       "       'kebab;grill;turkish;pizza;sandwich', 'kebab;indian;pizza',\n",
       "       'kebab;pizza', 'kebab;pizza;panini', 'kebab;pizza;turkish',\n",
       "       'kebab;turkish', 'korean', 'korean;barbecue', 'korean;chinese',\n",
       "       'korean;japanese', 'kosher', 'kosher;pizza;sushi', 'kurde;turque',\n",
       "       'kurdish', 'lao', 'laotian;thai', 'latin_american',\n",
       "       'latin_american;venezuelian', 'latino', 'lebanese',\n",
       "       'lebanese;french', 'lebanese;kebab', 'libanais', 'libre', 'local',\n",
       "       'local;french', 'maghrébine', 'malagasy', 'malaysian', 'maltese',\n",
       "       'marocco', 'mauricius', 'mauritian', 'meat', 'meat;grill',\n",
       "       'mediterranean', 'mediterranean;italian;french', 'mexican',\n",
       "       'mexican;japanese', 'mexican;pizza', 'mexico', 'middle_eastern',\n",
       "       'moroccan', 'mozzarella', 'na', 'nepalese', 'nepalese;indian',\n",
       "       'noodle', 'noodles', 'north-african', 'north_african', 'organic',\n",
       "       'organic;vegan', 'oriental', 'oriental;fine_dining',\n",
       "       'oriental;french', 'oriental;grill', 'oriental_couscous', 'oyster',\n",
       "       'paella', 'pakistan', 'pakistanese;indian', 'pakistani',\n",
       "       'pakistani;indian', 'pancake', 'pasta',\n",
       "       'pasta;coffee_shop;local;french', 'pasta;italian',\n",
       "       'pasta;italian;pizza', 'pasta;italian_pizza',\n",
       "       'pasta;italian_pizza;italian;pizza', 'persan', 'persian',\n",
       "       'peruvian', 'piadina;hot_dog', 'pizza', 'pizza; italian',\n",
       "       'pizza;burger', 'pizza;burger;italian_pizza', 'pizza;burger;kebab',\n",
       "       'pizza;corsican', 'pizza;couscous', 'pizza;crepe',\n",
       "       'pizza;crepes;greek', 'pizza;fast_food;burger;salads',\n",
       "       'pizza;french', 'pizza;italian', 'pizza;italian_pizza',\n",
       "       'pizza;kebab', 'pizza;new_york_pizza', 'pizza;pasta',\n",
       "       'pizza;pasta;italian', 'pizza;pasta;italian_pizza',\n",
       "       'pizza;regional', 'pizza;sandwich', 'pizza;vegan', 'poisson',\n",
       "       'poke_bowl;hawaiian', 'pokebowl', 'polish', 'portuguese',\n",
       "       'portuguese;deli', 'portuguese;french', 'potato', 'quebec',\n",
       "       'ramen', 'regional', 'regional; Jiangxi', 'regional;Yunnan',\n",
       "       'regional;alsatian;flammkuchen', 'regional;chinese;Sichuan',\n",
       "       'regional;french', 'regional;italian;italian_pizza',\n",
       "       'regional;wine', 'reunion_island', 'rotisserie', 'russian',\n",
       "       'russian;libanese', 'salad', 'salad bar',\n",
       "       'salad;burger;fish_and_chips', 'salad;japanese;hawaiian',\n",
       "       'salad;pizza', 'salad;salads', 'salade', 'salade;cake;gluten_free',\n",
       "       'salads', 'salads;pasta;bowl', 'sandwich',\n",
       "       'sandwich,_salades,_pâtes', 'sandwich;burger',\n",
       "       'sandwich;burger;pizza;pasta', 'sandwich;italian',\n",
       "       'sandwich;mexican', 'sandwich;salad', 'sandwich;vietnamese',\n",
       "       'sardinian', 'savory_pancakes', 'savory_pancakes;crepe',\n",
       "       'savory_pancakes;crepe;pancake', 'savory_pancakes;pancake;crepe',\n",
       "       'seafood', 'seafood;sushi', 'seasonal', 'senegalese', 'serbian',\n",
       "       'shandong', 'shandong;chinese;regional', 'sichuan',\n",
       "       'smart traditional', 'snack', 'snack;kebab;burger', 'soup',\n",
       "       'south_african', 'spanish', 'spanish;tapas;wine', 'steak_house',\n",
       "       'steak_house;breakfast;french;coffee_shop', 'steak_house;french',\n",
       "       'steak_house;moroccan', 'street_food', 'sushi', 'sushi;asian',\n",
       "       'sushi;bobun;asian;chinese;japanese', 'sushi;burrito',\n",
       "       'sushi;japanese', 'sushi;japanese;asian', 'syrian', 'taiwan',\n",
       "       'taiwanese', 'tapas', 'tapas;burger', 'tapas;cocktails',\n",
       "       'tea;cake;pancake;breakfast;coffee_shop', 'texan', 'thai',\n",
       "       'thai fruit juces', 'thai; chinese', 'thai;asian', 'thai;chinese',\n",
       "       'thai;french', 'thai;japanese', 'thai;lao;vietnamese',\n",
       "       'thai;vietnamese', 'thaï', 'tibetan', 'traditional',\n",
       "       'traditional;burger', 'traditional;french', 'traditional;modern',\n",
       "       'tunisian', 'tunisiane', 'turkish', 'turkish;kebab',\n",
       "       'turkish;mediterranean;kebab', 'turkish;vegetarian', 'turque',\n",
       "       'ukrainian', 'vegan', 'vegan;vegetarian;hot_dog',\n",
       "       'vegan;vietnamese', 'vegetarian', 'venezuelian', 'vietnam',\n",
       "       'vietnamese', 'vietnamese;Phở', 'vietnamese;asian',\n",
       "       'vietnamese;asian;international', 'vietnamese;chinese',\n",
       "       'vietnamese;lao;taiwanese', 'vietnamien', 'vietnamien-cambodgien',\n",
       "       'waffle', 'west_african', 'wine;seafood', 'wine;traditional',\n",
       "       'wok', 'world;healthy'], dtype=object)"
      ]
     },
     "execution_count": 385,
     "metadata": {},
     "output_type": "execute_result"
    }
   ],
   "source": [
    "np.unique(df[\"speciality\"])"
   ]
  },
  {
   "cell_type": "code",
   "execution_count": 703,
   "metadata": {
    "ExecuteTime": {
     "end_time": "2020-02-29T20:25:39.362271Z",
     "start_time": "2020-02-29T20:25:39.342598Z"
    }
   },
   "outputs": [],
   "source": [
    "exigency = 10\n",
    "max_entering_prob = 0.6\n",
    "\n",
    "C = 1 / exigency\n",
    "a = (-3 + np.sqrt(9+120*C))/20\n",
    "b = 1 - C / a\n",
    "\n",
    "staying_prob = lambda x, y, C : max(min(-y + C / (x + a) + b + 0.9, 1), 0)\n",
    "\n",
    "sigmoid = lambda x : 1 / (1 + np.exp(-x))\n",
    "\n",
    "def staying_prob(x, y, C):\n",
    "    v = -y + C / (x + a) + b\n",
    "    return sigmoid(20*v)\n",
    "\n",
    "def entering_prob(x, y, C):\n",
    "    C = C / 2\n",
    "    v = -y + C / (x + a) + b\n",
    "    return min(sigmoid(5*v), max_entering_prob)\n"
   ]
  },
  {
   "cell_type": "code",
   "execution_count": 704,
   "metadata": {
    "ExecuteTime": {
     "end_time": "2020-02-29T20:25:39.801937Z",
     "start_time": "2020-02-29T20:25:39.632486Z"
    }
   },
   "outputs": [
    {
     "data": {
      "text/plain": [
       "Text(0, 0.5, 'Notoriété')"
      ]
     },
     "execution_count": 704,
     "metadata": {},
     "output_type": "execute_result"
    },
    {
     "data": {
      "image/png": "[encoded data removed]",
      "text/plain": [
       "<Figure size 432x288 with 1 Axes>"
      ]
     },
     "metadata": {
      "needs_background": "light"
     },
     "output_type": "display_data"
    }
   ],
   "source": [
    "mat = [[max(staying_prob(x, y, C), 0) for x in np.linspace(0, 0.3, 100)] for y in np.linspace(1, 0, 100)]\n",
    "mplt.imshow(mat)\n",
    "mplt.title(\"Probability of staying a La Fourchette customer (as a restaurant)\")\n",
    "mplt.xlabel(\"Commission\")\n",
    "mplt.ylabel(\"Notoriété\")"
   ]
  },
  {
   "cell_type": "code",
   "execution_count": 705,
   "metadata": {
    "ExecuteTime": {
     "end_time": "2020-02-29T20:25:40.451671Z",
     "start_time": "2020-02-29T20:25:40.279548Z"
    }
   },
   "outputs": [
    {
     "data": {
      "text/plain": [
       "Text(0, 0.5, 'Notoriété')"
      ]
     },
     "execution_count": 705,
     "metadata": {},
     "output_type": "execute_result"
    },
    {
     "data": {
      "image/png": "[encoded data removed]",
      "text/plain": [
       "<Figure size 432x288 with 1 Axes>"
      ]
     },
     "metadata": {
      "needs_background": "light"
     },
     "output_type": "display_data"
    }
   ],
   "source": [
    "mat = [[max(entering_prob(x, y, C), 0) for x in np.linspace(0, 0.3, 100)] for y in np.linspace(1, 0, 100)]\n",
    "mat[0][0]=1\n",
    "mplt.imshow(mat)\n",
    "mplt.title(\"Proability of becoming a La Fourchette customer (as a restaurant)\")\n",
    "mplt.xlabel(\"Commission\")\n",
    "mplt.ylabel(\"Notoriété\")"
   ]
  },
  {
   "cell_type": "code",
   "execution_count": 348,
   "metadata": {
    "ExecuteTime": {
     "end_time": "2020-02-29T16:06:14.515100Z",
     "start_time": "2020-02-29T16:06:14.498680Z"
    }
   },
   "outputs": [
    {
     "data": {
      "text/plain": [
       "-0.10000000000000087"
      ]
     },
     "execution_count": 348,
     "metadata": {},
     "output_type": "execute_result"
    }
   ],
   "source": [
    "attractiveness(0.3,1, C)"
   ]
  },
  {
   "cell_type": "code",
   "execution_count": 499,
   "metadata": {
    "ExecuteTime": {
     "end_time": "2020-02-29T18:36:57.054677Z",
     "start_time": "2020-02-29T18:36:57.036837Z"
    }
   },
   "outputs": [],
   "source": [
    "r = Restaurant(0, \"n\", 0, 0, \"jkgvhgv\", 2022)\n",
    "r.generate_random_params(5)"
   ]
  },
  {
   "cell_type": "code",
   "execution_count": 500,
   "metadata": {
    "ExecuteTime": {
     "end_time": "2020-02-29T18:36:57.307858Z",
     "start_time": "2020-02-29T18:36:57.156543Z"
    }
   },
   "outputs": [],
   "source": [
    "notoriety = []\n",
    "for i in range(1000):\n",
    "    r.give_grade(np.random.choice([0,1,2,5]))\n",
    "    r.update_notoriety()\n",
    "    notoriety.append(r.notoriety)\n",
    "    r.current_day += 1"
   ]
  },
  {
   "cell_type": "code",
   "execution_count": 501,
   "metadata": {
    "ExecuteTime": {
     "end_time": "2020-02-29T18:36:57.723865Z",
     "start_time": "2020-02-29T18:36:57.608774Z"
    }
   },
   "outputs": [
    {
     "data": {
      "text/plain": [
       "[<matplotlib.lines.Line2D at 0x7fb17ca38c18>]"
      ]
     },
     "execution_count": 501,
     "metadata": {},
     "output_type": "execute_result"
    },
    {
     "data": {
      "image/png": "[encoded data removed]",
      "text/plain": [
       "<Figure size 432x288 with 1 Axes>"
      ]
     },
     "metadata": {
      "needs_background": "light"
     },
     "output_type": "display_data"
    }
   ],
   "source": [
    "mplt.plot(notoriety)"
   ]
  },
  {
   "cell_type": "code",
   "execution_count": 540,
   "metadata": {
    "ExecuteTime": {
     "end_time": "2020-02-29T18:40:39.255973Z",
     "start_time": "2020-02-29T18:40:39.238188Z"
    }
   },
   "outputs": [
    {
     "data": {
      "text/plain": [
       "[2]"
      ]
     },
     "execution_count": 540,
     "metadata": {},
     "output_type": "execute_result"
    }
   ],
   "source": [
    "[1, 2][-1:]"
   ]
  },
  {
   "cell_type": "code",
   "execution_count": 671,
   "metadata": {
    "ExecuteTime": {
     "end_time": "2020-02-29T19:33:28.109370Z",
     "start_time": "2020-02-29T19:33:28.095053Z"
    }
   },
   "outputs": [],
   "source": [
    "u = User()\n",
    "u.generate_random_params()"
   ]
  },
  {
   "cell_type": "code",
   "execution_count": 672,
   "metadata": {
    "ExecuteTime": {
     "end_time": "2020-02-29T19:33:28.406968Z",
     "start_time": "2020-02-29T19:33:28.390766Z"
    }
   },
   "outputs": [],
   "source": [
    "prob = []\n",
    "for i in range(10):\n",
    "    u.give_grade(r, np.random.choice([0,1,2,3,4,5]))\n",
    "    u.update_use_lf_prob()\n",
    "    prob.append(u.get_lf_prob(np.random.rand()/5))\n",
    "    r.current_day += 1"
   ]
  },
  {
   "cell_type": "code",
   "execution_count": 673,
   "metadata": {
    "ExecuteTime": {
     "end_time": "2020-02-29T19:33:28.979574Z",
     "start_time": "2020-02-29T19:33:28.862559Z"
    },
    "scrolled": true
   },
   "outputs": [
    {
     "data": {
      "text/plain": [
       "[<matplotlib.lines.Line2D at 0x7fb17b88cf28>]"
      ]
     },
     "execution_count": 673,
     "metadata": {},
     "output_type": "execute_result"
    },
    {
     "data": {
      "image/png": "[encoded data removed]",
      "text/plain": [
       "<Figure size 432x288 with 1 Axes>"
      ]
     },
     "metadata": {
      "needs_background": "light"
     },
     "output_type": "display_data"
    }
   ],
   "source": [
    "mplt.plot(prob)"
   ]
  },
  {
   "cell_type": "code",
   "execution_count": 675,
   "metadata": {
    "ExecuteTime": {
     "end_time": "2020-02-29T19:34:49.308557Z",
     "start_time": "2020-02-29T19:34:48.823798Z"
    }
   },
   "outputs": [],
   "source": [
    "users = [User() for i in range(1000)]\n",
    "for user in users:\n",
    "    user.generate_random_params()"
   ]
  },
  {
   "cell_type": "code",
   "execution_count": 699,
   "metadata": {
    "ExecuteTime": {
     "end_time": "2020-02-29T19:37:28.449663Z",
     "start_time": "2020-02-29T19:37:27.719220Z"
    }
   },
   "outputs": [],
   "source": [
    "for i in range(10):\n",
    "    for u in users:\n",
    "        u.give_grade(r, np.random.choice([0,1,2,3,4,5]))\n",
    "        u.update_use_lf_prob()\n",
    "        prob.append(u.get_lf_prob(np.random.rand()/5))"
   ]
  },
  {
   "cell_type": "code",
   "execution_count": 700,
   "metadata": {
    "ExecuteTime": {
     "end_time": "2020-02-29T19:37:28.579175Z",
     "start_time": "2020-02-29T19:37:28.563092Z"
    }
   },
   "outputs": [],
   "source": [
    "probs = [u.get_lf_prob() for u in users]"
   ]
  },
  {
   "cell_type": "code",
   "execution_count": 701,
   "metadata": {
    "ExecuteTime": {
     "end_time": "2020-02-29T19:37:28.811243Z",
     "start_time": "2020-02-29T19:37:28.691206Z"
    }
   },
   "outputs": [
    {
     "data": {
      "text/plain": [
       "(array([ 17.,  31., 126., 101., 227., 235.,  93.,  77.,  71.,  22.]),\n",
       " array([0. , 0.1, 0.2, 0.3, 0.4, 0.5, 0.6, 0.7, 0.8, 0.9, 1. ]),\n",
       " <a list of 10 Patch objects>)"
      ]
     },
     "execution_count": 701,
     "metadata": {},
     "output_type": "execute_result"
    },
    {
     "data": {
      "image/png": "[encoded data removed]",
      "text/plain": [
       "<Figure size 432x288 with 1 Axes>"
      ]
     },
     "metadata": {
      "needs_background": "light"
     },
     "output_type": "display_data"
    }
   ],
   "source": [
    "mplt.hist(probs, bins=10)"
   ]
  },
  {
   "cell_type": "code",
   "execution_count": 702,
   "metadata": {
    "ExecuteTime": {
     "end_time": "2020-02-29T20:23:38.308109Z",
     "start_time": "2020-02-29T20:23:38.289646Z"
    }
   },
   "outputs": [
    {
     "ename": "NameError",
     "evalue": "name 'restaurants' is not defined",
     "output_type": "error",
     "traceback": [
      "\u001b[0;31m---------------------------------------------------------------------------\u001b[0m",
      "\u001b[0;31mNameError\u001b[0m                                 Traceback (most recent call last)",
      "\u001b[0;32m<ipython-input-702-392db7669830>\u001b[0m in \u001b[0;36m<module>\u001b[0;34m\u001b[0m\n\u001b[0;32m----> 1\u001b[0;31m \u001b[0mspec\u001b[0m \u001b[0;34m=\u001b[0m \u001b[0mnp\u001b[0m\u001b[0;34m.\u001b[0m\u001b[0munique\u001b[0m\u001b[0;34m(\u001b[0m\u001b[0;34m[\u001b[0m\u001b[0mr\u001b[0m\u001b[0;34m.\u001b[0m\u001b[0mspecialities\u001b[0m \u001b[0;32mfor\u001b[0m \u001b[0mr\u001b[0m \u001b[0;32min\u001b[0m \u001b[0mrestaurants\u001b[0m\u001b[0;34m]\u001b[0m\u001b[0;34m)\u001b[0m\u001b[0;34m\u001b[0m\u001b[0;34m\u001b[0m\u001b[0m\n\u001b[0m",
      "\u001b[0;31mNameError\u001b[0m: name 'restaurants' is not defined"
     ]
    }
   ],
   "source": [
    "spec = np.unique([r.specialities for r in restaurants])"
   ]
  },
  {
   "cell_type": "code",
   "execution_count": null,
   "metadata": {},
   "outputs": [],
   "source": []
  },
  {
   "cell_type": "code",
   "execution_count": null,
   "metadata": {},
   "outputs": [],
   "source": []
  },
  {
   "cell_type": "code",
   "execution_count": null,
   "metadata": {},
   "outputs": [],
   "source": []
  },
  {
   "cell_type": "code",
   "execution_count": null,
   "metadata": {},
   "outputs": [],
   "source": []
  },
  {
   "cell_type": "code",
   "execution_count": null,
   "metadata": {},
   "outputs": [],
   "source": []
  },
  {
   "cell_type": "code",
   "execution_count": null,
   "metadata": {},
   "outputs": [],
   "source": []
  },
  {
   "cell_type": "code",
   "execution_count": null,
   "metadata": {},
   "outputs": [],
   "source": []
  },
  {
   "cell_type": "code",
   "execution_count": null,
   "metadata": {},
   "outputs": [],
   "source": []
  }
 ],
 "metadata": {
  "kernelspec": {
   "display_name": "Python 3",
   "language": "python",
   "name": "python3"
  },
  "language_info": {
   "codemirror_mode": {
    "name": "ipython",
    "version": 3
   },
   "file_extension": ".py",
   "mimetype": "text/x-python",
   "name": "python",
   "nbconvert_exporter": "python",
   "pygments_lexer": "ipython3",
   "version": "3.7.3"
  },
  "varInspector": {
   "cols": {
    "lenName": 16,
    "lenType": 16,
    "lenVar": 40
   },
   "kernels_config": {
    "python": {
     "delete_cmd_postfix": "",
     "delete_cmd_prefix": "del ",
     "library": "var_list.py",
     "varRefreshCmd": "print(var_dic_list())"
    },
    "r": {
     "delete_cmd_postfix": ") ",
     "delete_cmd_prefix": "rm(",
     "library": "var_list.r",
     "varRefreshCmd": "cat(var_dic_list()) "
    }
   },
   "types_to_exclude": [
    "module",
    "function",
    "builtin_function_or_method",
    "instance",
    "_Feature"
   ],
   "window_display": false
  }
 },
 "nbformat": 4,
 "nbformat_minor": 2
}
