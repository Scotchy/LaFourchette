{
 "cells": [
  {
   "cell_type": "markdown",
   "metadata": {},
   "source": [
    "# Recommender system for La Fourchette"
   ]
  },
  {
   "cell_type": "markdown",
   "metadata": {},
   "source": [
    "We try in this notebook to implement a recommender system for the mobile app La Fourchette. La Fourchette allows its users to find restaurant near their position and to reserve easily a table. The users are able to evaluate their experience. A user can give several grades. For example \"cooking\", \"surroudings\", \"service\". \n",
    "It is also possible to consider some metadata such as the hour, and the distance. \n",
    "\n",
    "The first thing we need is data. We will generate random users and items. There are several ways to do this:\n",
    "- We can chose users, items and metadata uniformly\n",
    "- Or we can define several clusters and chose random users/items/metadata in these clusters"
   ]
  },
  {
   "cell_type": "code",
   "execution_count": 1,
   "metadata": {
    "ExecuteTime": {
     "end_time": "2020-02-27T22:06:04.076831Z",
     "start_time": "2020-02-27T22:06:03.806646Z"
    }
   },
   "outputs": [],
   "source": [
    "%load_ext autoreload\n",
    "%autoreload 2\n",
    "\n",
    "import numpy as np\n",
    "import pandas as pd\n",
    "import json\n",
    "\n",
    "from users_items_generator import *"
   ]
  },
  {
   "cell_type": "code",
   "execution_count": 3,
   "metadata": {
    "ExecuteTime": {
     "end_time": "2020-02-27T22:06:07.163763Z",
     "start_time": "2020-02-27T22:06:07.149599Z"
    }
   },
   "outputs": [],
   "source": [
    "n_users = 1000\n",
    "n_items = 500"
   ]
  },
  {
   "cell_type": "code",
   "execution_count": 4,
   "metadata": {
    "ExecuteTime": {
     "end_time": "2020-02-27T22:06:07.346370Z",
     "start_time": "2020-02-27T22:06:07.335005Z"
    }
   },
   "outputs": [],
   "source": [
    "metadata = [\"weather\", \"hour\", \"distance\", \"last_time_visited\", \"last_visited\"]\n",
    "items=[]\n",
    "ratings = np.zeros((n_users, n_items, 3))"
   ]
  },
  {
   "cell_type": "code",
   "execution_count": 72,
   "metadata": {
    "ExecuteTime": {
     "end_time": "2020-02-27T22:23:24.215707Z",
     "start_time": "2020-02-27T22:23:21.026366Z"
    },
    "scrolled": true
   },
   "outputs": [],
   "source": [
    "restaurants = Restaurant.load_from_csv(\"./data/restaurants.csv\", set_random_params=True)"
   ]
  },
  {
   "cell_type": "code",
   "execution_count": null,
   "metadata": {
    "ExecuteTime": {
     "end_time": "2020-02-27T22:23:32.790643Z",
     "start_time": "2020-02-27T22:23:32.774902Z"
    }
   },
   "outputs": [],
   "source": []
  },
  {
   "cell_type": "code",
   "execution_count": 65,
   "metadata": {
    "ExecuteTime": {
     "end_time": "2020-02-27T22:22:30.379758Z",
     "start_time": "2020-02-27T22:22:30.323367Z"
    }
   },
   "outputs": [],
   "source": [
    "with open(\"./data/parisian_restaurants.json\", \"r\") as f:\n",
    "    a = json.load(f)"
   ]
  },
  {
   "cell_type": "code",
   "execution_count": 43,
   "metadata": {
    "ExecuteTime": {
     "end_time": "2020-02-27T22:17:32.315080Z",
     "start_time": "2020-02-27T22:17:32.301630Z"
    }
   },
   "outputs": [
    {
     "data": {
      "text/plain": [
       "dict_keys(['version', 'generator', 'osm3s', 'elements'])"
      ]
     },
     "execution_count": 43,
     "metadata": {},
     "output_type": "execute_result"
    }
   ],
   "source": [
    "a.keys()"
   ]
  },
  {
   "cell_type": "code",
   "execution_count": 44,
   "metadata": {
    "ExecuteTime": {
     "end_time": "2020-02-27T22:17:32.762364Z",
     "start_time": "2020-02-27T22:17:32.748174Z"
    }
   },
   "outputs": [
    {
     "data": {
      "text/plain": [
       "11749"
      ]
     },
     "execution_count": 44,
     "metadata": {},
     "output_type": "execute_result"
    }
   ],
   "source": [
    "len(a[\"elements\"])"
   ]
  },
  {
   "cell_type": "code",
   "execution_count": null,
   "metadata": {},
   "outputs": [],
   "source": []
  },
  {
   "cell_type": "code",
   "execution_count": null,
   "metadata": {},
   "outputs": [],
   "source": []
  },
  {
   "cell_type": "code",
   "execution_count": null,
   "metadata": {},
   "outputs": [],
   "source": []
  },
  {
   "cell_type": "code",
   "execution_count": null,
   "metadata": {},
   "outputs": [],
   "source": []
  }
 ],
 "metadata": {
  "kernelspec": {
   "display_name": "Python 3",
   "language": "python",
   "name": "python3"
  },
  "language_info": {
   "codemirror_mode": {
    "name": "ipython",
    "version": 3
   },
   "file_extension": ".py",
   "mimetype": "text/x-python",
   "name": "python",
   "nbconvert_exporter": "python",
   "pygments_lexer": "ipython3",
   "version": "3.7.3"
  },
  "varInspector": {
   "cols": {
    "lenName": 16,
    "lenType": 16,
    "lenVar": 40
   },
   "kernels_config": {
    "python": {
     "delete_cmd_postfix": "",
     "delete_cmd_prefix": "del ",
     "library": "var_list.py",
     "varRefreshCmd": "print(var_dic_list())"
    },
    "r": {
     "delete_cmd_postfix": ") ",
     "delete_cmd_prefix": "rm(",
     "library": "var_list.r",
     "varRefreshCmd": "cat(var_dic_list()) "
    }
   },
   "types_to_exclude": [
    "module",
    "function",
    "builtin_function_or_method",
    "instance",
    "_Feature"
   ],
   "window_display": false
  }
 },
 "nbformat": 4,
 "nbformat_minor": 2
}
