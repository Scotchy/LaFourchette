{
 "cells": [
  {
   "cell_type": "markdown",
   "metadata": {},
   "source": [
    "# Generate CSV file from JSON output from Open Street Map\n",
    "\n",
    "This notebook take a json file as input and create a csv file that can be loaded from pandas."
   ]
  },
  {
   "cell_type": "code",
   "execution_count": 1,
   "metadata": {
    "ExecuteTime": {
     "end_time": "2020-03-01T14:54:20.122769Z",
     "start_time": "2020-03-01T14:54:19.965077Z"
    }
   },
   "outputs": [],
   "source": [
    "import numpy as np\n",
    "import pandas as pd\n",
    "import json"
   ]
  },
  {
   "cell_type": "code",
   "execution_count": 2,
   "metadata": {
    "ExecuteTime": {
     "end_time": "2020-03-01T14:54:20.228964Z",
     "start_time": "2020-03-01T14:54:20.134350Z"
    }
   },
   "outputs": [],
   "source": [
    "with open(\"./data/parisian_restaurants.json\", \"r\") as f:\n",
    "    json_file = json.load(f)"
   ]
  },
  {
   "cell_type": "code",
   "execution_count": 3,
   "metadata": {
    "ExecuteTime": {
     "end_time": "2020-03-01T14:54:20.317502Z",
     "start_time": "2020-03-01T14:54:20.314412Z"
    }
   },
   "outputs": [],
   "source": [
    "restaurants = json_file[\"elements\"]"
   ]
  },
  {
   "cell_type": "code",
   "execution_count": 4,
   "metadata": {
    "ExecuteTime": {
     "end_time": "2020-03-01T14:54:20.622031Z",
     "start_time": "2020-03-01T14:54:20.594632Z"
    }
   },
   "outputs": [],
   "source": [
    "names, vegan, vegetarian, speciality, lat, long = [], [], [], [], [], []\n",
    "\n",
    "for restaurant in restaurants:\n",
    "    names.append(restaurant[\"tags\"][\"name\"] if \"name\" in restaurant[\"tags\"].keys() else \"\")\n",
    "    vegan.append(int(\"diet:vegan\" in restaurant[\"tags\"].keys() and restaurant[\"tags\"][\"diet:vegan\"] == \"yes\"))\n",
    "    vegetarian.append(int(\"diet:vegetarian\" in restaurant[\"tags\"].keys() and restaurant[\"tags\"][\"diet:vegetarian\"] == \"yes\"))\n",
    "    speciality.append(restaurant[\"tags\"][\"cuisine\"] if \"cuisine\" in restaurant[\"tags\"].keys() else \"na\")\n",
    "    lat.append(restaurant[\"lat\"])\n",
    "    long.append(restaurant[\"lon\"])"
   ]
  },
  {
   "cell_type": "code",
   "execution_count": 5,
   "metadata": {
    "ExecuteTime": {
     "end_time": "2020-03-01T14:54:21.378752Z",
     "start_time": "2020-03-01T14:54:21.358804Z"
    }
   },
   "outputs": [],
   "source": [
    "df = pd.DataFrame()\n",
    "df[\"name\"] = names\n",
    "df[\"speciality\"] = speciality\n",
    "df[\"vegan\"] = vegan\n",
    "df[\"vegetarian\"] = vegetarian\n",
    "df[\"lat\"] = lat\n",
    "df[\"long\"] = long"
   ]
  },
  {
   "cell_type": "code",
   "execution_count": 6,
   "metadata": {
    "ExecuteTime": {
     "end_time": "2020-03-01T14:54:25.965446Z",
     "start_time": "2020-03-01T14:54:25.915547Z"
    }
   },
   "outputs": [],
   "source": [
    "import re\n",
    "a = list(df[\"speciality\"])\n",
    "a = np.concatenate([re.split(\",|;\", sp) for sp in a])\n",
    "a = [sp.lower().replace(\" \", \"\").replace(\"_\", \"\") for sp in a]\n",
    "b = np.unique(a)"
   ]
  },
  {
   "cell_type": "code",
   "execution_count": 7,
   "metadata": {
    "ExecuteTime": {
     "end_time": "2020-03-01T14:54:27.985709Z",
     "start_time": "2020-03-01T14:54:27.968967Z"
    }
   },
   "outputs": [],
   "source": [
    "d = [[\"africaine\", \"cambodgienne\", \"côted'ivoire\", \"congo\", \"cambodgienne\", \"senegalese\", \"ivorycoast\", \"southafrican\", \"sénégal\", 'north-african', 'northafrican', \"ivorian\", \"capvert\", \"ethiopian\", \"laotian\", \"westafrican\", \"african\"],\n",
    "     [\"couscous\", \"morocan\", \"algerian\", 'oriental', 'orientalcouscous', \"tunisian\", 'marocain', 'marocco', \"tunisiane\", \"moroccan\", \"maghrébine\", \"maghreb\"],\n",
    "    [\"américaine\", \"burger\", \"oyster\", \"southamericanbarbecueandnaturalwine\", \"newyorkpizza\", \"american\"],\n",
    "    [\"latinamerican\", \"latino\"],\n",
    "    [\"crepe\", \"crepes\", \"galettes\", \"crêperie\", \"breton\"], \n",
    "    [\"français\", \"cuisinenissarde\", \"hairdresser\", \"française\", 'alsatian', \"frenchtraditional\", \"sud-ouestfrance\", \"auvergne\", \"repaslesmidis\", \"new-french\", \"french\"],\n",
    "    ['traditionnel', 'traditionnal', \"smarttraditional\", \"traditional\"],\n",
    "    [\"fait-maison\", \"homemade\"],\n",
    "    [\"gastronomiefrançaise\", \"frenchgastronomy\", \"françaisegastronomique\", \"gastr\", \"gastronomie\", \"gastronomique\", \"gastronomic\"],\n",
    "    [\"hawaii\", \"hawaiian\"],\n",
    "    [\"bistro\", \"brasserie\", \"bar\", \"cafe\", \"coffee\", \"coffeeshop\", \"bistrotgastronome\", \"bistrot\"],\n",
    "    [\"argentine\", \"argentinian\", \"peruvian\", \"southamerican\"],\n",
    "    [\"asianfusion\", \"asian\"],\n",
    "    [\"brazilian\", \"bresilian\"],\n",
    "    [\"caribbean\", \"créole\", \"creole\"], \n",
    "    [\"corsica\", \"corsican\"], \n",
    "    [\"chinese-fonduepékinoise\", \"bobun\", \"phở\", \"cantonese\", \"chineses(teochew)-中国潮州\", \"火鍋\", \"huoguo\", 'lanzhou', 'lao', 'shandong', \"yunnan\", 'shanxi', 'sichuan', \"jiangxi\", \"chinese\"], \n",
    "    [\"deli\", \"delicatessen\"], \n",
    "    [\"libanais\", \"lebanese\", \"libanese\"],\n",
    "    [\"pizza\", \"italian_pizza\", \"italianpizza\", \"pizzasàemporter\", \"pasta\", \"pâtes\", \"italian\"],\n",
    "    [\"francoportugaise\", \"portuguese\"],\n",
    "    [\"japaneseandchinese\", \"japonais\", \"japonaise\", \"sushi\", \"japanese\"],\n",
    "    [\"pokebowl\", \"bowl\"],\n",
    "    [\"friture\", \"fries\", \"friedfood\"],\n",
    "    [\"barbecue\", \"rotisserie\", \"grill\"],\n",
    "    [\"indianpakistanese\", \"pakistan\", \"pakistanaisindien\", \"pakistani\", \"océanindien\", \"pakistanese\", \"indian\"], \n",
    "    ['vietnam', 'vietnamese', 'vietnamien-cambodgien', 'vietnamien'],\n",
    "    [\"smoothie\", \"juice\", \"smoothies\", \"cocktails\"],\n",
    "    ['thaï', 'thaifruitjuces', 'thai'],\n",
    "    [\"world\", \"international\"],\n",
    "    [\"baràvins\", \"vin\", \"vins\", \"wine\"], \n",
    "    [\"colombian\", \"columbian\"],\n",
    "    [\"diet:vegetarian=only\", \"vegetarian\"], \n",
    "    [\"maisonbioproducteursbols\", \"bio\"],\n",
    "    ['tibet', 'tibetan'],\n",
    "    ['salad', 'saladbar', 'salade', 'salades', 'salads'], \n",
    "    [\"spécialitésréunionaises\", \"reunionisland\"],\n",
    "    [\"bavarian\", \"allemand\", \"flammkuchen\", \"deutch\"],\n",
    "    ['kurdish', 'kurde'],\n",
    "    [\"salondethé\", \"bubbletea\", \"tea\"],\n",
    "    ['mauricius', 'mauritian'],\n",
    "    ['persan', 'persian'],\n",
    "    [\"savorypancakes\", \"pancake\"],\n",
    "    ['russe', 'russian'],\n",
    "    [\"jewish\", \"kosher\"],\n",
    "    ['mexico', 'mexican'],\n",
    "    [\"poisson\", \"fish\"], \n",
    "    [\"turque\", \"turkish\"], \n",
    "    [\"mozzarella\", \"cheese\"],\n",
    "    [\"quebec\", \"canada\"],\n",
    "    ['noodle', 'noodles'],\n",
    "    [\"finedining\", \"diner\"],\n",
    "    ['bagel', 'bagels'],\n",
    "    [\"mésopotamieetanatolie\", \"middleeastern\", \"iranian\"]]\n",
    "     "
   ]
  },
  {
   "cell_type": "code",
   "execution_count": 8,
   "metadata": {
    "ExecuteTime": {
     "end_time": "2020-03-01T14:54:38.802134Z",
     "start_time": "2020-03-01T14:54:38.795719Z"
    }
   },
   "outputs": [],
   "source": [
    "def create_dict(specialities, same_spec):\n",
    "    r = {}\n",
    "    for sp in specialities:\n",
    "        ok = False\n",
    "        for row in same_spec:\n",
    "            if sp in row:\n",
    "                r[sp] = row[-1]\n",
    "                ok = True\n",
    "        if not ok:\n",
    "            r[sp] = sp\n",
    "    return r"
   ]
  },
  {
   "cell_type": "code",
   "execution_count": 9,
   "metadata": {
    "ExecuteTime": {
     "end_time": "2020-03-01T14:54:42.643297Z",
     "start_time": "2020-03-01T14:54:42.636578Z"
    }
   },
   "outputs": [],
   "source": [
    "sp_dict = create_dict(b, d)"
   ]
  },
  {
   "cell_type": "code",
   "execution_count": 13,
   "metadata": {
    "ExecuteTime": {
     "end_time": "2020-03-01T14:55:46.199904Z",
     "start_time": "2020-03-01T14:55:46.160307Z"
    }
   },
   "outputs": [],
   "source": [
    "r = []\n",
    "for sp in df[\"speciality\"]:\n",
    "    specs = re.split(\",|;\", sp.lower().replace(\" \", \"\").replace(\"_\", \"\"))\n",
    "    for i, s in enumerate(specs):\n",
    "        specs[i] = sp_dict[s]\n",
    "    specs = list(set(specs))\n",
    "    specs = \",\".join(specs)\n",
    "    r.append(specs)"
   ]
  },
  {
   "cell_type": "code",
   "execution_count": 14,
   "metadata": {
    "ExecuteTime": {
     "end_time": "2020-03-01T14:55:48.216512Z",
     "start_time": "2020-03-01T14:55:48.211403Z"
    }
   },
   "outputs": [],
   "source": [
    "df[\"speciality\"] = r"
   ]
  },
  {
   "cell_type": "code",
   "execution_count": 16,
   "metadata": {
    "ExecuteTime": {
     "end_time": "2020-03-01T14:56:03.036725Z",
     "start_time": "2020-03-01T14:56:02.967240Z"
    }
   },
   "outputs": [],
   "source": [
    "df.to_csv(\"./data/restaurants.csv\")"
   ]
  },
  {
   "cell_type": "code",
   "execution_count": 18,
   "metadata": {
    "ExecuteTime": {
     "end_time": "2020-03-01T21:37:52.296698Z",
     "start_time": "2020-03-01T21:37:52.292251Z"
    }
   },
   "outputs": [],
   "source": [
    "r = np.random.RandomState(2020)"
   ]
  },
  {
   "cell_type": "code",
   "execution_count": 19,
   "metadata": {
    "ExecuteTime": {
     "end_time": "2020-03-01T21:37:57.115120Z",
     "start_time": "2020-03-01T21:37:57.105440Z"
    }
   },
   "outputs": [
    {
     "data": {
      "text/plain": [
       "('MT19937', array([      2020, 1803034869, 2259915846, 4245545687, 3903451560,\n",
       "        2098060156, 2102951255, 2220259573, 4288342139, 3117281121,\n",
       "        3541069081,   60028237, 3368090733, 3392959859, 2596488510,\n",
       "        3283840187,  522738856, 1293579865, 4046309578, 4043491424,\n",
       "        3523938851, 2376474293, 3556445513, 2435766345, 3880286383,\n",
       "        3839862773, 1557785128, 4083700552, 3351838643, 2700218509,\n",
       "        3527806857,  414907281, 3747404117,  155895055, 1700644365,\n",
       "        2807008991, 3118637653, 3282803576,  759573165, 2420140904,\n",
       "         181148410, 2982964939, 1617970807, 3610964665, 2436713870,\n",
       "        1250133097, 1184294198,  313777634,  199392346, 1130183091,\n",
       "         595985772, 1924853711, 3300383354,   96662258, 1451973552,\n",
       "        3873695244, 2893073187, 3743141182, 1064869451, 2405013202,\n",
       "        1606275148, 2289525662, 1152174282, 2972506966, 1465810020,\n",
       "         194781466,   33945988, 2172589399, 2329995213, 3513924592,\n",
       "        3955995173, 4038958917, 1475759334,  296023660, 2330526950,\n",
       "        3553161791,  126725624,  784816933, 1047577319, 3273360498,\n",
       "        4275223013, 1810460175, 1767893464, 3622527984, 1744861747,\n",
       "        3102930959, 1123406455, 2178363109,  508567675, 2656805856,\n",
       "        1477024388,  891167700, 2161940224, 3706037799, 3347042450,\n",
       "        4227981972, 1428305139, 1869768155, 4053391716,  215737606,\n",
       "        2340131266,  620773669,  536445183, 1047616514, 2835636018,\n",
       "        3757719129, 4119774188, 2008495286, 3950951327, 2896855289,\n",
       "        3374855797,  658285309,  521188161, 2219541014, 2566063702,\n",
       "          43021207,  771385863,   12227640, 3497423502, 1071884056,\n",
       "        3135554800, 2755999219, 4274209167, 3689990327,  240354176,\n",
       "        4040319485, 1868797876, 3228415976, 3458421559, 1910679557,\n",
       "        2188537366,  647635559,  470397479, 2470127848, 2510446296,\n",
       "        2110264969, 2981604400,  905687619,  579350521, 3711315656,\n",
       "         821565859, 2400147676, 3182353956, 2246704013, 1104725755,\n",
       "        3856157491, 3168950914,  557593875, 3433896979, 3904938725,\n",
       "        1735875412,  222987808, 1259211576, 2065362710,  959751085,\n",
       "         857155804, 2063915880, 1848951306, 2834657781, 1418995218,\n",
       "        3042455839, 1373562386, 3835031841, 1562465549, 4160617056,\n",
       "        1592247476,  917010703, 1554631314, 4201289639,  749770845,\n",
       "        2311119451, 1319759560, 1297336057, 1750087813, 1367404738,\n",
       "          34363550, 2124252422, 3615964020,  997074341,  136128460,\n",
       "        4099989552, 3885547476,  281984905, 1322312388,  824698225,\n",
       "        2963144526, 1191798198,  170201326, 3039890594, 2491128797,\n",
       "         306697913, 2471475388, 4253258166, 3319093802, 4253778927,\n",
       "        3709360351, 2150419344, 3013309279, 1889290615, 3677561429,\n",
       "         283546294, 3665119383, 1613289262, 2173570390, 4017698544,\n",
       "        1574943148, 3546076943,   67781771, 2592632487, 2643260650,\n",
       "         704956506, 2509321813, 3904897063, 3301921545,  377626056,\n",
       "        3015559359, 3011008617, 3300468240, 3237032281, 2215093085,\n",
       "        3104459863, 1983683430, 3370413953, 1717211433, 2978065832,\n",
       "        3854532339, 3624633746,  972901400, 2739920476, 3910470139,\n",
       "         493529022, 1829428445, 2944327604,  146844087, 1725359389,\n",
       "        2804441335, 2441371285, 2314805632, 2227620664, 3418765521,\n",
       "        2673528266, 2003515609,  748750378, 2868504965, 2302894647,\n",
       "        1117199582,   36355057, 2298945548, 2824414334, 1863696869,\n",
       "        4120151022, 4121748092,  937710615, 1052146960, 2455562318,\n",
       "        3775681275, 1191933144, 3875290014, 4206201587,  495600051,\n",
       "        4103714723, 1229591333, 1148441146, 2698020174, 3199091716,\n",
       "        3780250983, 1548078462, 4110158630, 1936339877, 4161086657,\n",
       "        1946243992, 1332862316, 1365684753, 2973684065,  160143393,\n",
       "        2372120344, 3804168278, 2329649054, 2119464354,   96183654,\n",
       "        1012258902, 4043202823, 2372103086, 2123139063, 2716748586,\n",
       "        1465126885,  266816018, 2875317305, 3860100967,  766746517,\n",
       "        1633137643, 4199036533, 2833032114, 1819657621, 2822711434,\n",
       "        2840839887, 2399937801, 2531950976, 1818340212,  326976340,\n",
       "          12551504,  790063549, 3153976767, 3539837376, 2851548703,\n",
       "        3573397410, 3234176183,  129968183, 2825997799, 3567667598,\n",
       "        1641183959, 3751869861, 1506535862,  629613932, 3075248342,\n",
       "        2961348831, 4049573229, 3752842147, 2717851486,  485727371,\n",
       "        3064997655, 1174186378,  439830553, 1913902112, 1463769929,\n",
       "         852528301, 2085295751, 1582799397, 2164856188, 2206722559,\n",
       "        3267540763,  745936323, 2559636027, 1851724490, 2484997733,\n",
       "        1583468274, 3237720623, 1155193005, 3305081134,  896873748,\n",
       "        3023152696, 2904662071,  175346495, 2485047346, 3739341896,\n",
       "        1002563056, 3776784650, 1454768872, 4257011785, 1296494735,\n",
       "        4019906404,  902065154,  542748714, 1271856115, 2837178844,\n",
       "        3040678905, 2695313003, 2801117650, 3145486454, 2722485035,\n",
       "        1974223253, 3608810701, 1276015792, 2600322112,  703840630,\n",
       "         300776187, 1784600949, 2616647731, 1941417413, 1674671045,\n",
       "        1391628742, 2049442806, 3953770727, 1215242089, 3346926974,\n",
       "        1147025608, 3205429701,  755305468,  441161702,   57083193,\n",
       "        2852098553, 3100699780, 3098216540, 1166449813,  804453348,\n",
       "         115762805,  787352235, 1447868922,  363443339, 4049575772,\n",
       "        3600595201, 1910837585, 3201541656,  270169035, 1358189473,\n",
       "        2055577515, 4006607262, 2481815934, 1365472122, 1634100246,\n",
       "        2845232547,  670124822,  956000064, 3627089363,  869823652,\n",
       "        2874001993, 1660941357, 1171972851, 4285336850, 2843427406,\n",
       "        3023033750, 4147607807, 3615856904, 1508460020, 2502670407,\n",
       "        1707057624, 2871459133, 3835798140, 3107198141,  366962686,\n",
       "         800913114, 2912817063,  524188351, 2995758594, 3699539880,\n",
       "        2004607776, 2454996655, 3217914092, 1481250194,  365637548,\n",
       "         861985930, 1526914593,   65061968, 4008461633, 1897244348,\n",
       "        2129719108, 2885506285, 2481941248, 1120357248, 2089800860,\n",
       "         701622441, 2113027430, 1967086173, 1910367239, 1874603546,\n",
       "        1890035044, 1265258391,  446868973, 1321039169, 2839446529,\n",
       "         442806769, 3599445720, 3438915883,  912871053, 1953526887,\n",
       "        1433568261, 1257257820, 4229378682, 1282976903, 4288268457,\n",
       "        1488266974,  358526664, 1096548022,  798781186, 1630396314,\n",
       "        1694510328,  938606863, 4034163646,  369938533, 3713484462,\n",
       "        4076632343, 3119741627,  281767381, 1524388834, 3506869609,\n",
       "        3413421741, 3846572674, 2781360066, 3620247710, 3826990288,\n",
       "        1074850847, 1910192055, 2319934128, 2363044893, 1332685087,\n",
       "        2611890363, 3116151779,  450716332, 1440349124, 2233451426,\n",
       "        1587073034, 1844246850, 1152922715,  388420463, 2239812537,\n",
       "        1262460342, 1065429539,  410475712,  284842418,  950249261,\n",
       "        2067991477, 3299013625, 3971026328, 3848229662,   65098089,\n",
       "        2723500390,  502506094,  202241377, 3682187841, 2877411335,\n",
       "        4004298999, 3558258243, 3493734720, 3513787504,  669314657,\n",
       "        2978674504, 1697655862,  489415352, 3517770910, 4163133688,\n",
       "        3911030799,  123693765,    2854595, 2347413498,  998975204,\n",
       "         905076225, 4210336115, 2532877119, 3525250593, 1069467515,\n",
       "        2539817113, 2503465530, 1515786796, 3407430358, 1435393311,\n",
       "         617729261, 1676390553, 2175141393,  776311449,  185973112,\n",
       "        2988140148, 2212402347, 2164136395, 1619771244,  412015905,\n",
       "         479914278, 2548913184, 2543216013, 1704499855, 3788306987,\n",
       "        2127961070,  922021490, 1599805218, 3292978680, 1386080561,\n",
       "        3127357979, 1944561417, 2751475797, 3562185601, 1319704185,\n",
       "        3271825288, 1778626312, 1633608127, 2238693417, 3625637419,\n",
       "        1514792957, 3560072354, 1545789116, 3592423369,  223620843,\n",
       "        3149875185, 3952963610, 3536428313, 1381230463, 3731801332,\n",
       "        2682054322, 3630904752, 3186490592, 2372385132, 3324643497,\n",
       "        2715707222,  626440809, 2312683187, 1130821404, 2947089849,\n",
       "        3453835280,  419097801, 1765146264, 3921434025,  281790559,\n",
       "        1027204809, 1071161500, 1387191260, 1907426690,   23022081,\n",
       "        4214865336,  409858075, 1838886908, 1456690727, 3179631957,\n",
       "         698825899, 3139400912, 1923840820, 3171547972, 1397922554,\n",
       "         895777380, 1591726034, 3880381342, 2089548881, 3010551281,\n",
       "        2359696961, 2073087442, 3809223075, 2099766917, 3098974330,\n",
       "        1659527615, 1224294494,   73547492,  916903518, 1562174337,\n",
       "        1789215724, 1544070126, 1051498169, 1104116332], dtype=uint32), 624, 0, 0.0)"
      ]
     },
     "execution_count": 19,
     "metadata": {},
     "output_type": "execute_result"
    }
   ],
   "source": [
    "r.get_state()"
   ]
  },
  {
   "cell_type": "code",
   "execution_count": 20,
   "metadata": {
    "ExecuteTime": {
     "end_time": "2020-03-01T21:38:23.015595Z",
     "start_time": "2020-03-01T21:38:23.009842Z"
    }
   },
   "outputs": [
    {
     "data": {
      "text/plain": [
       "0.9862768288615988"
      ]
     },
     "execution_count": 20,
     "metadata": {},
     "output_type": "execute_result"
    }
   ],
   "source": [
    "r.uniform(0, 1)"
   ]
  },
  {
   "cell_type": "code",
   "execution_count": 22,
   "metadata": {
    "ExecuteTime": {
     "end_time": "2020-03-01T21:39:09.862882Z",
     "start_time": "2020-03-01T21:39:09.859266Z"
    }
   },
   "outputs": [],
   "source": [
    "s = r.get_state()"
   ]
  },
  {
   "cell_type": "code",
   "execution_count": 31,
   "metadata": {
    "ExecuteTime": {
     "end_time": "2020-03-01T21:39:33.379248Z",
     "start_time": "2020-03-01T21:39:33.375830Z"
    }
   },
   "outputs": [
    {
     "name": "stdout",
     "output_type": "stream",
     "text": [
      "0.8733919458206546\n"
     ]
    }
   ],
   "source": [
    "print(r.uniform(0, 1))\n",
    "r.set_state(s)"
   ]
  },
  {
   "cell_type": "code",
   "execution_count": null,
   "metadata": {},
   "outputs": [],
   "source": []
  }
 ],
 "metadata": {
  "kernelspec": {
   "display_name": "Python 3",
   "language": "python",
   "name": "python3"
  },
  "language_info": {
   "codemirror_mode": {
    "name": "ipython",
    "version": 3
   },
   "file_extension": ".py",
   "mimetype": "text/x-python",
   "name": "python",
   "nbconvert_exporter": "python",
   "pygments_lexer": "ipython3",
   "version": "3.7.3"
  },
  "varInspector": {
   "cols": {
    "lenName": 16,
    "lenType": 16,
    "lenVar": 40
   },
   "kernels_config": {
    "python": {
     "delete_cmd_postfix": "",
     "delete_cmd_prefix": "del ",
     "library": "var_list.py",
     "varRefreshCmd": "print(var_dic_list())"
    },
    "r": {
     "delete_cmd_postfix": ") ",
     "delete_cmd_prefix": "rm(",
     "library": "var_list.r",
     "varRefreshCmd": "cat(var_dic_list()) "
    }
   },
   "types_to_exclude": [
    "module",
    "function",
    "builtin_function_or_method",
    "instance",
    "_Feature"
   ],
   "window_display": false
  }
 },
 "nbformat": 4,
 "nbformat_minor": 2
}
