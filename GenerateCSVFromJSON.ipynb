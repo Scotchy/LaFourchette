{
 "cells": [
  {
   "cell_type": "markdown",
   "metadata": {},
   "source": [
    "# Generate CSV file from JSON output from Open Street Map\n",
    "\n",
    "This notebook take a json file as input and create a csv file that can be loaded from pandas."
   ]
  },
  {
   "cell_type": "code",
   "execution_count": 4,
   "metadata": {
    "ExecuteTime": {
     "end_time": "2020-02-27T22:46:32.390173Z",
     "start_time": "2020-02-27T22:46:32.386435Z"
    }
   },
   "outputs": [],
   "source": [
    "import numpy as np\n",
    "import pandas as pd\n",
    "import json"
   ]
  },
  {
   "cell_type": "code",
   "execution_count": 5,
   "metadata": {
    "ExecuteTime": {
     "end_time": "2020-02-27T22:46:32.547372Z",
     "start_time": "2020-02-27T22:46:32.498929Z"
    }
   },
   "outputs": [],
   "source": [
    "with open(\"./data/parisian_restaurants.json\", \"r\") as f:\n",
    "    json_file = json.load(f)"
   ]
  },
  {
   "cell_type": "code",
   "execution_count": 6,
   "metadata": {
    "ExecuteTime": {
     "end_time": "2020-02-27T22:47:45.023796Z",
     "start_time": "2020-02-27T22:47:45.018805Z"
    }
   },
   "outputs": [],
   "source": [
    "restaurants = json_file[\"elements\"]"
   ]
  },
  {
   "cell_type": "code",
   "execution_count": 7,
   "metadata": {
    "ExecuteTime": {
     "end_time": "2020-02-27T22:47:45.540385Z",
     "start_time": "2020-02-27T22:47:45.514205Z"
    }
   },
   "outputs": [],
   "source": [
    "names, vegan, vegetarian, speciality, lat, long = [], [], [], [], [], []\n",
    "\n",
    "for restaurant in restaurants:\n",
    "    names.append(restaurant[\"tags\"][\"name\"] if \"name\" in restaurant[\"tags\"].keys() else \"\")\n",
    "    vegan.append(int(\"diet:vegan\" in restaurant[\"tags\"].keys() and restaurant[\"tags\"][\"diet:vegan\"] == \"yes\"))\n",
    "    vegetarian.append(int(\"diet:vegetarian\" in restaurant[\"tags\"].keys() and restaurant[\"tags\"][\"diet:vegetarian\"] == \"yes\"))\n",
    "    speciality.append(restaurant[\"tags\"][\"cuisine\"] if \"cuisine\" in restaurant[\"tags\"].keys() else \"na\")\n",
    "    lat.append(restaurant[\"lat\"])\n",
    "    long.append(restaurant[\"lon\"])"
   ]
  },
  {
   "cell_type": "code",
   "execution_count": 8,
   "metadata": {
    "ExecuteTime": {
     "end_time": "2020-02-27T22:47:46.203681Z",
     "start_time": "2020-02-27T22:47:46.184105Z"
    }
   },
   "outputs": [],
   "source": [
    "df = pd.DataFrame()\n",
    "df[\"name\"] = names\n",
    "df[\"speciality\"] = speciality\n",
    "df[\"vegan\"] = vegan\n",
    "df[\"vegetarian\"] = vegetarian\n",
    "df[\"lat\"] = lat\n",
    "df[\"long\"] = long"
   ]
  },
  {
   "cell_type": "code",
   "execution_count": 9,
   "metadata": {
    "ExecuteTime": {
     "end_time": "2020-02-27T22:47:47.077313Z",
     "start_time": "2020-02-27T22:47:47.001923Z"
    }
   },
   "outputs": [],
   "source": [
    "df.to_csv(\"./data/restaurants.csv\")"
   ]
  },
  {
   "cell_type": "code",
   "execution_count": null,
   "metadata": {},
   "outputs": [],
   "source": []
  }
 ],
 "metadata": {
  "kernelspec": {
   "display_name": "Python 3",
   "language": "python",
   "name": "python3"
  },
  "language_info": {
   "codemirror_mode": {
    "name": "ipython",
    "version": 3
   },
   "file_extension": ".py",
   "mimetype": "text/x-python",
   "name": "python",
   "nbconvert_exporter": "python",
   "pygments_lexer": "ipython3",
   "version": "3.7.3"
  },
  "varInspector": {
   "cols": {
    "lenName": 16,
    "lenType": 16,
    "lenVar": 40
   },
   "kernels_config": {
    "python": {
     "delete_cmd_postfix": "",
     "delete_cmd_prefix": "del ",
     "library": "var_list.py",
     "varRefreshCmd": "print(var_dic_list())"
    },
    "r": {
     "delete_cmd_postfix": ") ",
     "delete_cmd_prefix": "rm(",
     "library": "var_list.r",
     "varRefreshCmd": "cat(var_dic_list()) "
    }
   },
   "types_to_exclude": [
    "module",
    "function",
    "builtin_function_or_method",
    "instance",
    "_Feature"
   ],
   "window_display": false
  }
 },
 "nbformat": 4,
 "nbformat_minor": 2
}
